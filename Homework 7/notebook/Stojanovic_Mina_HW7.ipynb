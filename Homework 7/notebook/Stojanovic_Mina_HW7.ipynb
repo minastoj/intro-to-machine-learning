{
 "cells": [
  {
   "cell_type": "markdown",
   "metadata": {},
   "source": [
    "### NOTE: This assignment was due 11/15 at 11:59pm. I would like to use one of my grace days (of the 6 I have) on this assignment to turn it in by 11:59pm on 11/16.  \n",
    "# Homework 7\n",
    "**name:** Mina Stojanovic  \n",
    "**github id:** minastoj  \n",
    "**USC student id:** 4968308304  "
   ]
  },
  {
   "cell_type": "code",
   "execution_count": 19,
   "metadata": {},
   "outputs": [],
   "source": [
    "import pandas as pd\n",
    "from sklearn.model_selection import train_test_split\n",
    "from sklearn import svm\n",
    "import numpy as np\n",
    "from sklearn.model_selection import GridSearchCV \n",
    "from sklearn.metrics import hamming_loss\n",
    "from sklearn.preprocessing import StandardScaler\n",
    "from imblearn.over_sampling import SMOTE\n",
    "from sklearn.cluster import KMeans\n",
    "from sklearn.metrics import silhouette_score\n",
    "from scipy.spatial.distance import hamming\n",
    "\n",
    "import warnings\n",
    "warnings.filterwarnings('ignore')"
   ]
  },
  {
   "cell_type": "markdown",
   "metadata": {},
   "source": [
    "### Question 1\n",
    "#### Decision Trees as Interpretable Models\n",
    "(a) Download the Anuran Calls (MFCCs) Data Set from: https://archive.ics.uci.edu/ml/datasets/Anuran+Calls+%28MFCCs%29. Choose 70% of the data randomly as the training set.  \n",
    "(b) Each instance has three labels: Families, Genus, and Species. Each of the labels has multiple classes. We wish to solve a multi-class and multi-label problem. One of the most important approaches to multi-label classification is to train a classifier for each label (binary relevance). We first try this approach:  \n",
    "&nbsp;&nbsp;&nbsp;&nbsp;&nbsp;&nbsp;i. Research exact match and hamming score/ loss methods for evaluating multi-label classification and use them in evaluating the classifiers in this problem.  \n",
    "**Exact Match:** For each instance, if all labels are correctly predicted, the score is 1; otherwise, it is 0. The final score is the mean of these values across all instances.  \n",
    "**Hamming Score:** It is computed as the ratio of the number of correct labels to the total number of labels (considering both positive and negative labels).  \n",
    "**Hamming Loss:** It is computed as the average number of label mismatches per instance, divided by the total number of labels."
   ]
  },
  {
   "cell_type": "code",
   "execution_count": 20,
   "metadata": {},
   "outputs": [],
   "source": [
    "data = training_data = pd.read_csv('../data/Frogs_MFCCs.csv', delimiter=',')\n",
    "\n",
    "input = data.drop(['Family', 'Genus', 'Species', 'RecordID'], axis=1)\n",
    "output = data[['Family', 'Genus', 'Species']]\n",
    "\n",
    "X_train, X_test, Y_train, Y_test = train_test_split(input, output, test_size=0.3, random_state=42)"
   ]
  },
  {
   "cell_type": "markdown",
   "metadata": {},
   "source": [
    "&nbsp;&nbsp;&nbsp;&nbsp;&nbsp;&nbsp;ii. Train a SVM for each of the labels, using Gaussian kernels and one versus all classifiers. Determine the weight of the SVM penalty and the width of the Gaussian Kernel using 10 fold cross validation. You are welcome to try to solve the problem with both standardized and raw attributes and report the results.  "
   ]
  },
  {
   "cell_type": "code",
   "execution_count": 21,
   "metadata": {},
   "outputs": [
    {
     "data": {
      "text/html": [
       "<div>\n",
       "<style scoped>\n",
       "    .dataframe tbody tr th:only-of-type {\n",
       "        vertical-align: middle;\n",
       "    }\n",
       "\n",
       "    .dataframe tbody tr th {\n",
       "        vertical-align: top;\n",
       "    }\n",
       "\n",
       "    .dataframe thead th {\n",
       "        text-align: right;\n",
       "    }\n",
       "</style>\n",
       "<table border=\"1\" class=\"dataframe\">\n",
       "  <thead>\n",
       "    <tr style=\"text-align: right;\">\n",
       "      <th></th>\n",
       "      <th>label</th>\n",
       "      <th>C</th>\n",
       "      <th>gamma</th>\n",
       "    </tr>\n",
       "  </thead>\n",
       "  <tbody>\n",
       "    <tr>\n",
       "      <th>0</th>\n",
       "      <td>Family</td>\n",
       "      <td>10</td>\n",
       "      <td>2.3</td>\n",
       "    </tr>\n",
       "    <tr>\n",
       "      <th>1</th>\n",
       "      <td>Genus</td>\n",
       "      <td>100</td>\n",
       "      <td>1.5</td>\n",
       "    </tr>\n",
       "    <tr>\n",
       "      <th>2</th>\n",
       "      <td>Species</td>\n",
       "      <td>10</td>\n",
       "      <td>1.8</td>\n",
       "    </tr>\n",
       "  </tbody>\n",
       "</table>\n",
       "</div>"
      ],
      "text/plain": [
       "     label    C  gamma\n",
       "0   Family   10    2.3\n",
       "1    Genus  100    1.5\n",
       "2  Species   10    1.8"
      ]
     },
     "metadata": {},
     "output_type": "display_data"
    }
   ],
   "source": [
    "# REFERENCE: Site #1, #2\n",
    "param_grid = {\n",
    "    'C': [0.01, 0.1, 1, 10, 100],  \n",
    "    'gamma': np.arange(1, 2.5, 0.1) # initially had similar values to C, but saw that all models had the same gamma value\n",
    "}\n",
    "\n",
    "family_svm = GridSearchCV(svm.SVC(kernel='rbf'), param_grid, cv = 10)\n",
    "genus_svm = GridSearchCV(svm.SVC(kernel='rbf'), param_grid, cv = 10)\n",
    "species_svm = GridSearchCV(svm.SVC(kernel='rbf'), param_grid, cv = 10)\n",
    "\n",
    "# fit each model on ITS specific output\n",
    "family_svm.fit(X_train, Y_train['Family'])\n",
    "genus_svm.fit(X_train, Y_train['Genus'])\n",
    "species_svm.fit(X_train, Y_train['Species'])\n",
    "\n",
    "# penalty \n",
    "family_best_C = family_svm.best_params_['C']\n",
    "genus_best_C = genus_svm.best_params_['C']\n",
    "species_best_C = species_svm.best_params_['C']\n",
    "\n",
    "# gamma (width)\n",
    "family_best_gamma = family_svm.best_params_['gamma']\n",
    "genus_best_gamma = genus_svm.best_params_['gamma']\n",
    "species_best_gamma = species_svm.best_params_['gamma']\n",
    "\n",
    "results = [] # best parameter results for each model\n",
    "results.append({\n",
    "        'label': 'Family',\n",
    "        'C': family_best_C,\n",
    "        'gamma': family_best_gamma\n",
    "    })\n",
    "results.append({\n",
    "        'label': 'Genus',\n",
    "        'C': genus_best_C,\n",
    "        'gamma': genus_best_gamma\n",
    "    })\n",
    "results.append({\n",
    "        'label': 'Species',\n",
    "        'C': species_best_C,\n",
    "        'gamma': species_best_gamma\n",
    "    })\n",
    "\n",
    "results_df = pd.DataFrame(results)\n",
    "display(results_df)"
   ]
  },
  {
   "cell_type": "code",
   "execution_count": 22,
   "metadata": {},
   "outputs": [
    {
     "data": {
      "text/html": [
       "<div>\n",
       "<style scoped>\n",
       "    .dataframe tbody tr th:only-of-type {\n",
       "        vertical-align: middle;\n",
       "    }\n",
       "\n",
       "    .dataframe tbody tr th {\n",
       "        vertical-align: top;\n",
       "    }\n",
       "\n",
       "    .dataframe thead th {\n",
       "        text-align: right;\n",
       "    }\n",
       "</style>\n",
       "<table border=\"1\" class=\"dataframe\">\n",
       "  <thead>\n",
       "    <tr style=\"text-align: right;\">\n",
       "      <th></th>\n",
       "      <th>Overall Hamming Score</th>\n",
       "      <th>Overall Exact Match Score</th>\n",
       "    </tr>\n",
       "  </thead>\n",
       "  <tbody>\n",
       "    <tr>\n",
       "      <th>0</th>\n",
       "      <td>0.991972</td>\n",
       "      <td>0.987494</td>\n",
       "    </tr>\n",
       "  </tbody>\n",
       "</table>\n",
       "</div>"
      ],
      "text/plain": [
       "   Overall Hamming Score  Overall Exact Match Score\n",
       "0               0.991972                   0.987494"
      ]
     },
     "metadata": {},
     "output_type": "display_data"
    }
   ],
   "source": [
    "family_Y_pred = family_svm.predict(X_test)\n",
    "genus_Y_pred = genus_svm.predict(X_test)\n",
    "species_Y_pred = species_svm.predict(X_test)\n",
    "\n",
    "family_hamming_score = 1 - hamming_loss(Y_test['Family'], family_Y_pred)\n",
    "genus_hamming_score = 1 - hamming_loss(Y_test['Genus'], genus_Y_pred)\n",
    "species_hamming_score = 1 - hamming_loss(Y_test['Species'], species_Y_pred)\n",
    "\n",
    "gaussian_overall_hamming_score = (family_hamming_score + genus_hamming_score + species_hamming_score) / 3\n",
    "\n",
    "num_exact_matches = 0\n",
    "for i in range(0, len(family_Y_pred)):\n",
    "    if family_Y_pred[i] == Y_test['Family'].iloc[i] and genus_Y_pred[i] == Y_test['Genus'].iloc[i] and species_Y_pred[i] == Y_test['Species'].iloc[i]:\n",
    "        num_exact_matches += 1\n",
    "\n",
    "gaussian_overall_exact_match_score = num_exact_matches / len(family_Y_pred)\n",
    "\n",
    "results = []\n",
    "results.append({\n",
    "    'Overall Hamming Score': gaussian_overall_hamming_score,\n",
    "    'Overall Exact Match Score': gaussian_overall_exact_match_score\n",
    "})\n",
    "\n",
    "results_df = pd.DataFrame(results)\n",
    "display(results_df)"
   ]
  },
  {
   "cell_type": "markdown",
   "metadata": {},
   "source": [
    "&nbsp;&nbsp;&nbsp;&nbsp;&nbsp;&nbsp;iii. Repeat 1(b)ii with L1-penalized SVMs. Remember to standardize the attributes. Determine the weight of the SVM penalty using 10 fold cross validation.  "
   ]
  },
  {
   "cell_type": "code",
   "execution_count": 23,
   "metadata": {},
   "outputs": [
    {
     "data": {
      "text/html": [
       "<div>\n",
       "<style scoped>\n",
       "    .dataframe tbody tr th:only-of-type {\n",
       "        vertical-align: middle;\n",
       "    }\n",
       "\n",
       "    .dataframe tbody tr th {\n",
       "        vertical-align: top;\n",
       "    }\n",
       "\n",
       "    .dataframe thead th {\n",
       "        text-align: right;\n",
       "    }\n",
       "</style>\n",
       "<table border=\"1\" class=\"dataframe\">\n",
       "  <thead>\n",
       "    <tr style=\"text-align: right;\">\n",
       "      <th></th>\n",
       "      <th>label</th>\n",
       "      <th>C</th>\n",
       "    </tr>\n",
       "  </thead>\n",
       "  <tbody>\n",
       "    <tr>\n",
       "      <th>0</th>\n",
       "      <td>Family</td>\n",
       "      <td>1</td>\n",
       "    </tr>\n",
       "    <tr>\n",
       "      <th>1</th>\n",
       "      <td>Genus</td>\n",
       "      <td>25</td>\n",
       "    </tr>\n",
       "    <tr>\n",
       "      <th>2</th>\n",
       "      <td>Species</td>\n",
       "      <td>50</td>\n",
       "    </tr>\n",
       "  </tbody>\n",
       "</table>\n",
       "</div>"
      ],
      "text/plain": [
       "     label   C\n",
       "0   Family   1\n",
       "1    Genus  25\n",
       "2  Species  50"
      ]
     },
     "metadata": {},
     "output_type": "display_data"
    },
    {
     "data": {
      "text/html": [
       "<div>\n",
       "<style scoped>\n",
       "    .dataframe tbody tr th:only-of-type {\n",
       "        vertical-align: middle;\n",
       "    }\n",
       "\n",
       "    .dataframe tbody tr th {\n",
       "        vertical-align: top;\n",
       "    }\n",
       "\n",
       "    .dataframe thead th {\n",
       "        text-align: right;\n",
       "    }\n",
       "</style>\n",
       "<table border=\"1\" class=\"dataframe\">\n",
       "  <thead>\n",
       "    <tr style=\"text-align: right;\">\n",
       "      <th></th>\n",
       "      <th>Overall Hamming Score</th>\n",
       "      <th>Overall Exact Match Score</th>\n",
       "    </tr>\n",
       "  </thead>\n",
       "  <tbody>\n",
       "    <tr>\n",
       "      <th>0</th>\n",
       "      <td>0.943184</td>\n",
       "      <td>0.912923</td>\n",
       "    </tr>\n",
       "  </tbody>\n",
       "</table>\n",
       "</div>"
      ],
      "text/plain": [
       "   Overall Hamming Score  Overall Exact Match Score\n",
       "0               0.943184                   0.912923"
      ]
     },
     "metadata": {},
     "output_type": "display_data"
    }
   ],
   "source": [
    "scaler = StandardScaler()\n",
    "X_train_scaled = scaler.fit_transform(X_train)\n",
    "X_test_scaled = scaler.transform(X_test)\n",
    "\n",
    "param_grid = {\n",
    "    'C': [1, 25, 50, 75, 100] # increased from above C value range since many models had the same C value\n",
    "}\n",
    "\n",
    "# REFERENCE: Site #3\n",
    "family_svm = GridSearchCV(svm.LinearSVC(penalty='l1', dual=False), param_grid, cv = 10)\n",
    "genus_svm = GridSearchCV(svm.LinearSVC(penalty='l1', dual=False), param_grid, cv = 10)\n",
    "species_svm = GridSearchCV(svm.LinearSVC(penalty='l1', dual=False), param_grid, cv = 10)\n",
    "\n",
    "family_svm.fit(X_train_scaled, Y_train['Family'])\n",
    "genus_svm.fit(X_train_scaled, Y_train['Genus'])\n",
    "species_svm.fit(X_train_scaled, Y_train['Species'])\n",
    "\n",
    "family_best_C = family_svm.best_params_['C']\n",
    "genus_best_C = genus_svm.best_params_['C']\n",
    "species_best_C = species_svm.best_params_['C']\n",
    "\n",
    "results = []\n",
    "results.append({\n",
    "        'label': 'Family',\n",
    "        'C': family_best_C\n",
    "    })\n",
    "results.append({\n",
    "        'label': 'Genus',\n",
    "        'C': genus_best_C\n",
    "    })\n",
    "results.append({\n",
    "        'label': 'Species',\n",
    "        'C': species_best_C\n",
    "    })\n",
    "\n",
    "results_df = pd.DataFrame(results)\n",
    "display(results_df)\n",
    "\n",
    "# METRICS\n",
    "family_Y_pred = family_svm.predict(X_test_scaled)\n",
    "genus_Y_pred = genus_svm.predict(X_test_scaled)\n",
    "species_Y_pred = species_svm.predict(X_test_scaled)\n",
    "\n",
    "family_hamming_score = 1 - hamming_loss(Y_test['Family'], family_Y_pred)\n",
    "genus_hamming_score = 1 - hamming_loss(Y_test['Genus'], genus_Y_pred)\n",
    "species_hamming_score = 1 - hamming_loss(Y_test['Species'], species_Y_pred)\n",
    "\n",
    "l1_overall_hamming_score = (family_hamming_score + genus_hamming_score + species_hamming_score) / 3\n",
    "\n",
    "num_exact_matches = 0\n",
    "for i in range(0, len(family_Y_pred)):\n",
    "    if family_Y_pred[i] == Y_test['Family'].iloc[i] and genus_Y_pred[i] == Y_test['Genus'].iloc[i] and species_Y_pred[i] == Y_test['Species'].iloc[i]:\n",
    "        num_exact_matches += 1\n",
    "\n",
    "l1_overall_exact_match_score = num_exact_matches / len(family_Y_pred)\n",
    "\n",
    "results = []\n",
    "results.append({\n",
    "    'Overall Hamming Score': l1_overall_hamming_score,\n",
    "    'Overall Exact Match Score': l1_overall_exact_match_score\n",
    "})\n",
    "\n",
    "results_df = pd.DataFrame(results)\n",
    "display(results_df)"
   ]
  },
  {
   "cell_type": "markdown",
   "metadata": {},
   "source": [
    "&nbsp;&nbsp;&nbsp;&nbsp;&nbsp;&nbsp;iv. Repeat 1(b)iii by using SMOTE or any other method you know to remedy class imbalance. Report your conclusions about the classifiers you trained."
   ]
  },
  {
   "cell_type": "code",
   "execution_count": 24,
   "metadata": {},
   "outputs": [
    {
     "data": {
      "text/html": [
       "<div>\n",
       "<style scoped>\n",
       "    .dataframe tbody tr th:only-of-type {\n",
       "        vertical-align: middle;\n",
       "    }\n",
       "\n",
       "    .dataframe tbody tr th {\n",
       "        vertical-align: top;\n",
       "    }\n",
       "\n",
       "    .dataframe thead th {\n",
       "        text-align: right;\n",
       "    }\n",
       "</style>\n",
       "<table border=\"1\" class=\"dataframe\">\n",
       "  <thead>\n",
       "    <tr style=\"text-align: right;\">\n",
       "      <th></th>\n",
       "      <th>label</th>\n",
       "      <th>C</th>\n",
       "    </tr>\n",
       "  </thead>\n",
       "  <tbody>\n",
       "    <tr>\n",
       "      <th>0</th>\n",
       "      <td>Family</td>\n",
       "      <td>10</td>\n",
       "    </tr>\n",
       "    <tr>\n",
       "      <th>1</th>\n",
       "      <td>Genus</td>\n",
       "      <td>10</td>\n",
       "    </tr>\n",
       "    <tr>\n",
       "      <th>2</th>\n",
       "      <td>Species</td>\n",
       "      <td>10</td>\n",
       "    </tr>\n",
       "  </tbody>\n",
       "</table>\n",
       "</div>"
      ],
      "text/plain": [
       "     label   C\n",
       "0   Family  10\n",
       "1    Genus  10\n",
       "2  Species  10"
      ]
     },
     "metadata": {},
     "output_type": "display_data"
    }
   ],
   "source": [
    "param_grid = {\n",
    "    'C': [0.01, 0.1, 1, 10, 100]\n",
    "}\n",
    "\n",
    "# apply smote\n",
    "smote = SMOTE(random_state=42)\n",
    "X_train_smote_family, Y_train_smote_family = smote.fit_resample(X_train_scaled, Y_train['Family'])\n",
    "X_train_smote_genus, Y_train_smote_genus = smote.fit_resample(X_train_scaled, Y_train['Genus'])\n",
    "X_train_smote_species, Y_train_smote_species = smote.fit_resample(X_train_scaled, Y_train['Species'])\n",
    "\n",
    "family_svm = GridSearchCV(svm.LinearSVC(penalty='l1', dual=False), param_grid, cv=10)\n",
    "genus_svm = GridSearchCV(svm.LinearSVC(penalty='l1', dual=False), param_grid, cv=10)\n",
    "species_svm = GridSearchCV(svm.LinearSVC(penalty='l1', dual=False), param_grid, cv=10)\n",
    "\n",
    "family_svm.fit(X_train_smote_family, Y_train_smote_family)\n",
    "genus_svm.fit(X_train_smote_genus, Y_train_smote_genus)\n",
    "species_svm.fit(X_train_smote_species, Y_train_smote_species)\n",
    "\n",
    "family_best_C = family_svm.best_params_['C']\n",
    "genus_best_C = genus_svm.best_params_['C']\n",
    "species_best_C = species_svm.best_params_['C']\n",
    "\n",
    "results = []\n",
    "results.append({\n",
    "    'label': 'Family',\n",
    "    'C': family_best_C\n",
    "})\n",
    "results.append({\n",
    "    'label': 'Genus',\n",
    "    'C': genus_best_C\n",
    "})\n",
    "results.append({\n",
    "    'label': 'Species',\n",
    "    'C': species_best_C\n",
    "})\n",
    "\n",
    "results_df = pd.DataFrame(results)\n",
    "display(results_df)"
   ]
  },
  {
   "cell_type": "code",
   "execution_count": 30,
   "metadata": {},
   "outputs": [
    {
     "data": {
      "text/html": [
       "<div>\n",
       "<style scoped>\n",
       "    .dataframe tbody tr th:only-of-type {\n",
       "        vertical-align: middle;\n",
       "    }\n",
       "\n",
       "    .dataframe tbody tr th {\n",
       "        vertical-align: top;\n",
       "    }\n",
       "\n",
       "    .dataframe thead th {\n",
       "        text-align: right;\n",
       "    }\n",
       "</style>\n",
       "<table border=\"1\" class=\"dataframe\">\n",
       "  <thead>\n",
       "    <tr style=\"text-align: right;\">\n",
       "      <th></th>\n",
       "      <th>Overall Hamming Score</th>\n",
       "      <th>Overall Exact Match Score</th>\n",
       "    </tr>\n",
       "  </thead>\n",
       "  <tbody>\n",
       "    <tr>\n",
       "      <th>0</th>\n",
       "      <td>0.923113</td>\n",
       "      <td>0.853173</td>\n",
       "    </tr>\n",
       "  </tbody>\n",
       "</table>\n",
       "</div>"
      ],
      "text/plain": [
       "   Overall Hamming Score  Overall Exact Match Score\n",
       "0               0.923113                   0.853173"
      ]
     },
     "metadata": {},
     "output_type": "display_data"
    }
   ],
   "source": [
    "# METRICS\n",
    "family_Y_pred = family_svm.predict(X_test_scaled)\n",
    "genus_Y_pred = genus_svm.predict(X_test_scaled)\n",
    "species_Y_pred = species_svm.predict(X_test_scaled)\n",
    "\n",
    "family_hamming_score = 1 - hamming_loss(Y_test['Family'], family_Y_pred)\n",
    "genus_hamming_score = 1 - hamming_loss(Y_test['Genus'], genus_Y_pred)\n",
    "species_hamming_score = 1 - hamming_loss(Y_test['Species'], species_Y_pred)\n",
    "\n",
    "smote_l1_overall_hamming_score = (family_hamming_score + genus_hamming_score + species_hamming_score) / 3\n",
    "\n",
    "num_exact_matches = 0\n",
    "for i in range(len(family_Y_pred)):\n",
    "    if (family_Y_pred[i] == Y_test['Family'].iloc[i] and genus_Y_pred[i] == Y_test['Genus'].iloc[i] and species_Y_pred[i] == Y_test['Species'].iloc[i]):\n",
    "        num_exact_matches += 1\n",
    "\n",
    "smote_l1_overall_exact_match_score = num_exact_matches / len(family_Y_pred)\n",
    "\n",
    "results = []\n",
    "results.append({\n",
    "    'Overall Hamming Score': smote_l1_overall_hamming_score,\n",
    "    'Overall Exact Match Score': smote_l1_overall_exact_match_score\n",
    "})\n",
    "\n",
    "results_df = pd.DataFrame(results)\n",
    "display(results_df)"
   ]
  },
  {
   "cell_type": "code",
   "execution_count": 26,
   "metadata": {},
   "outputs": [
    {
     "data": {
      "text/html": [
       "<div>\n",
       "<style scoped>\n",
       "    .dataframe tbody tr th:only-of-type {\n",
       "        vertical-align: middle;\n",
       "    }\n",
       "\n",
       "    .dataframe tbody tr th {\n",
       "        vertical-align: top;\n",
       "    }\n",
       "\n",
       "    .dataframe thead th {\n",
       "        text-align: right;\n",
       "    }\n",
       "</style>\n",
       "<table border=\"1\" class=\"dataframe\">\n",
       "  <thead>\n",
       "    <tr style=\"text-align: right;\">\n",
       "      <th></th>\n",
       "      <th>Model</th>\n",
       "      <th>Overall Hamming Score</th>\n",
       "      <th>Overall Exact Match Score</th>\n",
       "    </tr>\n",
       "  </thead>\n",
       "  <tbody>\n",
       "    <tr>\n",
       "      <th>0</th>\n",
       "      <td>Gaussian SVM</td>\n",
       "      <td>0.991972</td>\n",
       "      <td>0.987494</td>\n",
       "    </tr>\n",
       "    <tr>\n",
       "      <th>1</th>\n",
       "      <td>L1-penalized SVM</td>\n",
       "      <td>0.943184</td>\n",
       "      <td>0.912923</td>\n",
       "    </tr>\n",
       "    <tr>\n",
       "      <th>2</th>\n",
       "      <td>SMOTE L1-penalized SVM</td>\n",
       "      <td>0.923113</td>\n",
       "      <td>0.853173</td>\n",
       "    </tr>\n",
       "  </tbody>\n",
       "</table>\n",
       "</div>"
      ],
      "text/plain": [
       "                    Model  Overall Hamming Score  Overall Exact Match Score\n",
       "0            Gaussian SVM               0.991972                   0.987494\n",
       "1        L1-penalized SVM               0.943184                   0.912923\n",
       "2  SMOTE L1-penalized SVM               0.923113                   0.853173"
      ]
     },
     "metadata": {},
     "output_type": "display_data"
    },
    {
     "name": "stdout",
     "output_type": "stream",
     "text": [
      "As it is clear to see based off of the table, the SVM with the Gaussian kernel performed best, in terms of hamming score and exact match score.\n",
      "When we applied L1 penalization, the model performed worse than the Gaussian SVM model.\n",
      "Furthermore, when we applied SMOTE to the L1 penalized SVM, the model performed worse than the Gaussian and L1-penalized SVM models.\n"
     ]
    }
   ],
   "source": [
    "results = []\n",
    "results.append({\n",
    "    'Model': 'Gaussian SVM',\n",
    "    'Overall Hamming Score': gaussian_overall_hamming_score,\n",
    "    'Overall Exact Match Score': gaussian_overall_exact_match_score\n",
    "})\n",
    "results.append({\n",
    "    'Model': 'L1-penalized SVM',\n",
    "    'Overall Hamming Score': l1_overall_hamming_score,\n",
    "    'Overall Exact Match Score': l1_overall_exact_match_score\n",
    "})\n",
    "results.append({\n",
    "    'Model': 'SMOTE L1-penalized SVM',\n",
    "    'Overall Hamming Score': smote_l1_overall_hamming_score,\n",
    "    'Overall Exact Match Score': smote_l1_overall_exact_match_score\n",
    "})\n",
    "\n",
    "results_df = pd.DataFrame(results)\n",
    "display(results_df)\n",
    "print(\"As it is clear to see based off of the table, the SVM with the Gaussian kernel performed best, in terms of hamming score and exact match score.\")\n",
    "print(\"When we applied L1 penalization, the model performed worse than the Gaussian SVM model.\")\n",
    "print(\"Furthermore, when we applied SMOTE to the L1 penalized SVM, the model performed worse than the Gaussian and L1-penalized SVM models.\")"
   ]
  },
  {
   "cell_type": "markdown",
   "metadata": {},
   "source": [
    "### Question 2\n",
    "#### K-Means Clustering on a Multi-Class and Multi-Label Data Set\n",
    "**Monte-Carlo Simulation:** Perform the following procedures 50 times, and report the average and standard deviation of the 50 Hamming Distances that you calculate.  \n",
    "(a) Use k-means clustering on the whole Anuran Calls (MFCCs) Data Set (do not split the data into train and test, as we are not performing supervised learning in this exercise). Choose k ∈ {1, 2, . . . , 50} automatically based on one of the methods provided in the slides (CH or Gap Statistics or scree plots or Silhouettes) or any other method you know.  "
   ]
  },
  {
   "cell_type": "code",
   "execution_count": 27,
   "metadata": {},
   "outputs": [
    {
     "name": "stdout",
     "output_type": "stream",
     "text": [
      "Best K: 4\n",
      "Best K Score: 0.3787509343305295\n"
     ]
    }
   ],
   "source": [
    "best_k = 0\n",
    "best_k_score = 0\n",
    "k_values = range(2, 51)\n",
    "\n",
    "# REFERENCE: Site #4\n",
    "for k in k_values:\n",
    "    kmeans = KMeans(n_clusters=k).fit(input)\n",
    "    score = silhouette_score(input, kmeans.labels_)\n",
    "    if score > best_k_score:\n",
    "        best_k = k\n",
    "        best_k_score = score\n",
    "\n",
    "print('Best K:', best_k)\n",
    "print('Best K Score:', best_k_score)"
   ]
  },
  {
   "cell_type": "markdown",
   "metadata": {},
   "source": [
    "(b) In each cluster, determine which family is the majority by reading the true labels. Repeat for genus and species.  "
   ]
  },
  {
   "cell_type": "code",
   "execution_count": 28,
   "metadata": {},
   "outputs": [
    {
     "data": {
      "text/html": [
       "<div>\n",
       "<style scoped>\n",
       "    .dataframe tbody tr th:only-of-type {\n",
       "        vertical-align: middle;\n",
       "    }\n",
       "\n",
       "    .dataframe tbody tr th {\n",
       "        vertical-align: top;\n",
       "    }\n",
       "\n",
       "    .dataframe thead th {\n",
       "        text-align: right;\n",
       "    }\n",
       "</style>\n",
       "<table border=\"1\" class=\"dataframe\">\n",
       "  <thead>\n",
       "    <tr style=\"text-align: right;\">\n",
       "      <th></th>\n",
       "      <th>Label</th>\n",
       "      <th>Cluster 1</th>\n",
       "      <th>Cluster 2</th>\n",
       "      <th>Cluster 3</th>\n",
       "      <th>Cluster 4</th>\n",
       "    </tr>\n",
       "  </thead>\n",
       "  <tbody>\n",
       "    <tr>\n",
       "      <th>0</th>\n",
       "      <td>Family</td>\n",
       "      <td>Leptodactylidae</td>\n",
       "      <td>Hylidae</td>\n",
       "      <td>Dendrobatidae</td>\n",
       "      <td>Hylidae</td>\n",
       "    </tr>\n",
       "    <tr>\n",
       "      <th>1</th>\n",
       "      <td>Genus</td>\n",
       "      <td>Adenomera</td>\n",
       "      <td>Hypsiboas</td>\n",
       "      <td>Ameerega</td>\n",
       "      <td>Hypsiboas</td>\n",
       "    </tr>\n",
       "    <tr>\n",
       "      <th>2</th>\n",
       "      <td>Species</td>\n",
       "      <td>AdenomeraHylaedactylus</td>\n",
       "      <td>HypsiboasCinerascens</td>\n",
       "      <td>Ameeregatrivittata</td>\n",
       "      <td>HypsiboasCordobae</td>\n",
       "    </tr>\n",
       "  </tbody>\n",
       "</table>\n",
       "</div>"
      ],
      "text/plain": [
       "     Label               Cluster 1             Cluster 2           Cluster 3  \\\n",
       "0   Family         Leptodactylidae               Hylidae       Dendrobatidae   \n",
       "1    Genus               Adenomera             Hypsiboas            Ameerega   \n",
       "2  Species  AdenomeraHylaedactylus  HypsiboasCinerascens  Ameeregatrivittata   \n",
       "\n",
       "           Cluster 4  \n",
       "0            Hylidae  \n",
       "1          Hypsiboas  \n",
       "2  HypsiboasCordobae  "
      ]
     },
     "metadata": {},
     "output_type": "display_data"
    }
   ],
   "source": [
    "kmeans = KMeans(n_clusters=best_k, random_state=42).fit(input)\n",
    "labels = kmeans.labels_\n",
    "majorities = {'Label': ['Family', 'Genus', 'Species']}\n",
    "\n",
    "for k in range(best_k):\n",
    "    cluster_indices = np.where(labels == k)[0] # get indices of samples in this cluster\n",
    "\n",
    "    family_true_labels = data.iloc[cluster_indices]['Family']\n",
    "    genus_true_labels = data.iloc[cluster_indices]['Genus']\n",
    "    species_true_labels = data.iloc[cluster_indices]['Species']\n",
    "\n",
    "    family_mode = family_true_labels.mode()[0]\n",
    "    genus_mode = genus_true_labels.mode()[0]\n",
    "    species_mode = species_true_labels.mode()[0]\n",
    "\n",
    "    temp = [family_mode, genus_mode, species_mode]\n",
    "    majorities[f'Cluster {k + 1}'] = temp\n",
    "\n",
    "majorities_df = pd.DataFrame(majorities)\n",
    "display(majorities_df)"
   ]
  },
  {
   "cell_type": "markdown",
   "metadata": {},
   "source": [
    "(c) Now for each cluster you have a majority label triplet (family, genus, species). Calculate the average Hamming distance, Hamming score, and Hamming loss between the true labels and the labels assigned by clusters."
   ]
  },
  {
   "cell_type": "code",
   "execution_count": 29,
   "metadata": {},
   "outputs": [
    {
     "data": {
      "text/html": [
       "<div>\n",
       "<style scoped>\n",
       "    .dataframe tbody tr th:only-of-type {\n",
       "        vertical-align: middle;\n",
       "    }\n",
       "\n",
       "    .dataframe tbody tr th {\n",
       "        vertical-align: top;\n",
       "    }\n",
       "\n",
       "    .dataframe thead th {\n",
       "        text-align: right;\n",
       "    }\n",
       "</style>\n",
       "<table border=\"1\" class=\"dataframe\">\n",
       "  <thead>\n",
       "    <tr style=\"text-align: right;\">\n",
       "      <th></th>\n",
       "      <th>Average Hamming Distance</th>\n",
       "      <th>Standard Deviation of Hamming Distance</th>\n",
       "      <th>Average Hamming Score</th>\n",
       "      <th>Average Hamming Loss</th>\n",
       "    </tr>\n",
       "  </thead>\n",
       "  <tbody>\n",
       "    <tr>\n",
       "      <th>0</th>\n",
       "      <td>0.733426</td>\n",
       "      <td>0.0</td>\n",
       "      <td>0.755525</td>\n",
       "      <td>0.244475</td>\n",
       "    </tr>\n",
       "  </tbody>\n",
       "</table>\n",
       "</div>"
      ],
      "text/plain": [
       "   Average Hamming Distance  Standard Deviation of Hamming Distance  \\\n",
       "0                  0.733426                                     0.0   \n",
       "\n",
       "   Average Hamming Score  Average Hamming Loss  \n",
       "0               0.755525              0.244475  "
      ]
     },
     "metadata": {},
     "output_type": "display_data"
    }
   ],
   "source": [
    "hamming_distances = []\n",
    "hamming_scores = []\n",
    "hamming_losses = []\n",
    "\n",
    "for n in range(50):\n",
    "    # part (a)\n",
    "    best_k = 0\n",
    "    best_k_score = 0\n",
    "    k_values = range(2, 51)\n",
    "\n",
    "    for k in k_values:\n",
    "        kmeans = KMeans(n_clusters=k).fit(input)\n",
    "        score = silhouette_score(input, kmeans.labels_)\n",
    "        if score > best_k_score:\n",
    "            best_k = k\n",
    "            best_k_score = score\n",
    "\n",
    "    # part (b)\n",
    "    kmeans = KMeans(n_clusters=best_k, random_state=42).fit(input)\n",
    "    labels = kmeans.labels_\n",
    "\n",
    "    majorities = {'Label': ['Family', 'Genus', 'Species']}\n",
    "    \n",
    "    true_labels = []\n",
    "    predicted_labels = []\n",
    "\n",
    "    for k in range(best_k):\n",
    "        cluster_indices = np.where(labels == k)[0]\n",
    "\n",
    "        family_true_labels = data.iloc[cluster_indices]['Family']\n",
    "        genus_true_labels = data.iloc[cluster_indices]['Genus']\n",
    "        species_true_labels = data.iloc[cluster_indices]['Species']\n",
    "\n",
    "        family_mode = family_true_labels.mode()[0]\n",
    "        genus_mode = genus_true_labels.mode()[0]\n",
    "        species_mode = species_mode = species_true_labels.mode()[0]\n",
    "\n",
    "        majorities[f'Cluster {k + 1}'] = [family_mode, genus_mode, species_mode]\n",
    "\n",
    "        for idx in cluster_indices:\n",
    "            true_labels.append([data.iloc[idx]['Family'], data.iloc[idx]['Genus'], data.iloc[idx]['Species']])\n",
    "            predicted_labels.append([family_mode, genus_mode, species_mode])\n",
    "\n",
    "    # the new stuff\n",
    "    hamm_dist = 0\n",
    "    for i in range(len(true_labels)):\n",
    "        if true_labels[i] != predicted_labels[i]:\n",
    "            hamm_dist += 1\n",
    "\n",
    "    hamm_loss = hamm_dist / len(true_labels)\n",
    "    hamming_losses.append(hamm_loss)\n",
    "\n",
    "    hamm_dist /= len(true_labels)\n",
    "    hamm_dist *= len(true_labels[0])\n",
    "    hamming_distances.append(hamm_dist)\n",
    "    \n",
    "    hamm_score = 1 - hamm_loss\n",
    "    hamming_scores.append(hamm_score)\n",
    "\n",
    "# METRICS\n",
    "average_hamming_distance = np.mean(hamming_distances)\n",
    "std_dev_hamming_distance = np.std(hamming_distances)\n",
    "average_hamming_score = np.mean(hamming_scores)\n",
    "average_hamming_loss = np.mean(hamming_losses)\n",
    "\n",
    "results = [{\n",
    "    'Average Hamming Distance': average_hamming_distance,\n",
    "    'Standard Deviation of Hamming Distance': std_dev_hamming_distance,\n",
    "    'Average Hamming Score': average_hamming_score,\n",
    "    'Average Hamming Loss': average_hamming_loss\n",
    "}]\n",
    "\n",
    "results_df = pd.DataFrame(results)\n",
    "display(results_df)\n"
   ]
  },
  {
   "cell_type": "markdown",
   "metadata": {},
   "source": [
    "### Question 3\n",
    "#### ISLR 12.6.2\n",
    "2. Suppose that we have four observations, for which we compute a dissimilarity matrix, given by  \n",
    "[ 0, 0.3, 0.4, 0.7 ]  \n",
    "[ 0.3, 0, 0.5, 0.8 ]  \n",
    "[0.4, 0.5, 0, 0.45]  \n",
    "[0.7, 0.8, 0.45, 0]  \n",
    "For instance, the dissimilarity between the first and second observations is 0.3, and the dissimilarity between the second and fourth observations is 0.8.  \n",
    "(a) On the basis of this dissimilarity matrix, sketch the dendrogram that results from hierarchically clustering these four observations using complete linkage. Be sure to indicate on the plot the height at which each fusion occurs, as well as the observations corresponding to each leaf in the dendrogram.  "
   ]
  },
  {
   "cell_type": "markdown",
   "metadata": {},
   "source": [
    "![a.png](images/a.jpg)  "
   ]
  },
  {
   "cell_type": "markdown",
   "metadata": {},
   "source": [
    "(b) Repeat (a), this time using single linkage clustering.  "
   ]
  },
  {
   "cell_type": "markdown",
   "metadata": {},
   "source": [
    "![b.png](images/b.jpg)  "
   ]
  },
  {
   "cell_type": "markdown",
   "metadata": {},
   "source": [
    "(c) Suppose that we cut the dendrogram obtained in (a) such that two clusters result. Which observations are in each cluster?"
   ]
  },
  {
   "cell_type": "markdown",
   "metadata": {},
   "source": [
    "![c.png](images/c.jpg)  "
   ]
  },
  {
   "cell_type": "markdown",
   "metadata": {},
   "source": [
    "(d) Suppose that we cut the dendrogram obtained in (b) such that two clusters result. Which observations are in each cluster?"
   ]
  },
  {
   "cell_type": "markdown",
   "metadata": {},
   "source": [
    "![d.png](images/d.jpg)  "
   ]
  },
  {
   "cell_type": "markdown",
   "metadata": {},
   "source": [
    "(e) It is mentioned in the chapter that at each fusion in the dendrogram, the position of the two clusters being fused can be swapped without changing the meaning of the dendrogram. Draw a dendrogram that is equivalent to the dendrogram in (a), for which two or more of the leaves are repositioned, but for which the meaning of the dendrogram is the same."
   ]
  },
  {
   "cell_type": "markdown",
   "metadata": {},
   "source": [
    "![e.png](images/e.jpg)  "
   ]
  },
  {
   "cell_type": "markdown",
   "metadata": {},
   "source": [
    "## References and Citations  \n",
    "[#1 - SVM Classifier Python Tutorial](https://www.datacamp.com/tutorial/svm-classification-scikit-learn-python)  \n",
    "[#2 - SVM with GridSearchCV Tutorial](https://www.geeksforgeeks.org/svm-hyperparameter-tuning-using-gridsearchcv-ml/)  \n",
    "[#3 - LinearSVC Documentation](https://scikit-learn.org/dev/modules/generated/sklearn.svm.LinearSVC.html)  \n",
    "[#4 - KMeans Documentation](https://scikit-learn.org/1.5/modules/generated/sklearn.cluster.KMeans.html)  "
   ]
  }
 ],
 "metadata": {
  "kernelspec": {
   "display_name": "Python 3",
   "language": "python",
   "name": "python3"
  },
  "language_info": {
   "codemirror_mode": {
    "name": "ipython",
    "version": 3
   },
   "file_extension": ".py",
   "mimetype": "text/x-python",
   "name": "python",
   "nbconvert_exporter": "python",
   "pygments_lexer": "ipython3",
   "version": "3.8.5"
  }
 },
 "nbformat": 4,
 "nbformat_minor": 2
}
